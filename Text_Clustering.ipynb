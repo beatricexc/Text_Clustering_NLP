{
  "cells": [
    {
      "cell_type": "markdown",
      "metadata": {
        "id": "mH10_5PLSWJO"
      },
      "source": [
        "## 03_02 Preparing Text for Clustering"
      ]
    },
    {
      "cell_type": "code",
      "source": [
        "import pandas as pd\n",
        "\n",
        "#Load course hashtags\n",
        "\n",
        "hashtags_df = pd.read_csv(\"/content/Course-Hashtags.csv\")\n",
        "print(\"\\nSample hashtag data: \")\n",
        "print(hashtags_df[:2])\n",
        "\n",
        "#Separate Hashtags and titles to lists\n",
        "hash_list = hashtags_df[\"HashTags\"].tolist()\n",
        "title_list = hashtags_df[\"Course\"].tolist()\n",
        "\n",
        "#DO TF-IDF conversion of hashtags\n",
        "from sklearn.feature_extraction.text import TfidfVectorizer\n",
        "\n",
        "vectorizer = TfidfVectorizer(stop_words = 'english')\n",
        "hash_matrix = vectorizer.fit_transform(hash_list)\n",
        "print(\"/n Feature names Identified : \\n\")\n",
        "\n",
        "print(vectorizer.get_feature_names())\n"
      ],
      "metadata": {
        "colab": {
          "base_uri": "https://localhost:8080/"
        },
        "id": "IXvmGJ1QSbmc",
        "outputId": "888c4f12-7437-474d-877a-7436b41959be"
      },
      "execution_count": 2,
      "outputs": [
        {
          "output_type": "stream",
          "name": "stdout",
          "text": [
            "\n",
            "Sample hashtag data: \n",
            "                            Course                             HashTags\n",
            "0  Apache Spark Essential Training  BigData,DataScience,MachineLearning\n",
            "1           Java Memory Management            Java,Advanced,Programming\n",
            "/n Feature names Identified : \n",
            "\n",
            "['advanced', 'automation', 'bigdata', 'datascience', 'design', 'developer', 'gcp', 'graphics', 'hadoop', 'ide', 'intermediate', 'java', 'jdbc', 'kubernetes', 'machinelearning', 'patterns', 'programming', 'python', 'scala', 'scripting']\n"
          ]
        },
        {
          "output_type": "stream",
          "name": "stderr",
          "text": [
            "/usr/local/lib/python3.7/dist-packages/sklearn/utils/deprecation.py:87: FutureWarning: Function get_feature_names is deprecated; get_feature_names is deprecated in 1.0 and will be removed in 1.2. Please use get_feature_names_out instead.\n",
            "  warnings.warn(msg, category=FutureWarning)\n"
          ]
        }
      ]
    },
    {
      "cell_type": "markdown",
      "metadata": {
        "id": "zpdBAMM_SWJT"
      },
      "source": [
        "## 03_03 Clustering TF-IDF data"
      ]
    },
    {
      "cell_type": "code",
      "source": [
        "# Use KMeans clustering from scikit-learn\n",
        "from sklearn.cluster import KMeans\n",
        "\n",
        "# Split the data into three clusters \n",
        "kmeans = KMeans(n_clusters =3 ).fit(hash_matrix)\n",
        "\n",
        "# get Cluster lables\n",
        "clusters = kmeans.labels_\n",
        "\n",
        "#Print cluster label and Courses under each cluster\n",
        "for group in set(clusters):\n",
        "  print(\"\\nGroup: \", group, \"\\n***************\")\n",
        "\n",
        "  for i in hashtags_df.index:\n",
        "    if( clusters[i] == group):\n",
        "      print(title_list[i])"
      ],
      "metadata": {
        "colab": {
          "base_uri": "https://localhost:8080/"
        },
        "id": "O4SA2smDfrxy",
        "outputId": "46c865d8-336e-402f-ebaf-6b6ab96def7b"
      },
      "execution_count": 6,
      "outputs": [
        {
          "output_type": "stream",
          "name": "stdout",
          "text": [
            "\n",
            "Group:  0 \n",
            "***************\n",
            "Apache Spark Essential Training\n",
            "Machine Learning and AI Foundations\n",
            "Hadoop for Data Science\n",
            "Data Science on Google Cloud Platform\n",
            "Scala for Data Science\n",
            "\n",
            "Group:  1 \n",
            "***************\n",
            "Java Memory Management\n",
            "Java : Database Integration and JDBC\n",
            "R Programming\n",
            "Java IDE Overview\n",
            "Kubernetes for Java Developers\n",
            "\n",
            "Group:  2 \n",
            "***************\n",
            "Python Automation and Testing\n",
            "Python for Graphics\n",
            "Python Design Patterns\n",
            "Python Scripting\n"
          ]
        }
      ]
    },
    {
      "cell_type": "markdown",
      "metadata": {
        "id": "s7ty_7vSSWJU"
      },
      "source": [
        "## 03_04 Finding optimal Cluster size"
      ]
    },
    {
      "cell_type": "code",
      "execution_count": null,
      "metadata": {
        "id": "SxzmlzeHSWJU",
        "outputId": "3cd727e6-a3ef-4632-f33f-1834d4af6221"
      },
      "outputs": [
        {
          "name": "stdout",
          "output_type": "stream",
          "text": [
            "Sum of squared distances :  [11.433022387031057, 9.055813116540266, 6.761066172191217, 5.825459420623091, 4.688883377604404, 3.877655335798853, 3.3481406712109574, 3.009148147676421, 2.2891113420351643, 1.8077797890512946, 1.540401015180819, 0.8457910455266844, 0.40164181287464085, 0.0]\n"
          ]
        },
        {
          "data": {
            "image/png": "[encoded data removed]",
            "text/plain": [
              "<Figure size 432x288 with 1 Axes>"
            ]
          },
          "metadata": {
            "needs_background": "light"
          },
          "output_type": "display_data"
        }
      ],
      "source": [
        "#Find optimal cluster size by finding sum-of-squared-distances\n",
        "\n",
        "sosd = []\n",
        "#Run clustering for sizes 1 to 15 and capture inertia\n",
        "K = range(1,15)\n",
        "for k in K:\n",
        "    km = KMeans(n_clusters=k)\n",
        "    km = km.fit(hash_matrix)\n",
        "    sosd.append(km.inertia_)\n",
        "    \n",
        "print(\"Sum of squared distances : \" ,sosd)\n",
        "\n",
        "#Plot sosd against number of clusters\n",
        "import matplotlib.pyplot as mpLib\n",
        "mpLib.plot(K, sosd, 'bx-')\n",
        "mpLib.xlabel('Cluster count')\n",
        "mpLib.ylabel('Sum_of_squared_distances')\n",
        "mpLib.title('Elbow Method For Optimal Cluster Size')\n",
        "mpLib.show()\n"
      ]
    },
    {
      "cell_type": "code",
      "execution_count": 7,
      "metadata": {
        "colab": {
          "base_uri": "https://localhost:8080/",
          "height": 332
        },
        "id": "-Tu41UJoSWJV",
        "outputId": "1dafcbc9-5afc-45ff-df4c-8a68cf14e85e"
      },
      "outputs": [
        {
          "output_type": "stream",
          "name": "stdout",
          "text": [
            "Sum of squared distances:  [11.433022387031059, 9.055813116540266, 6.761066172191217, 5.6283212260073165, 4.688883377604405, 4.039404310143011, 3.348140671210957, 2.8186260066230613, 2.289111342035165, 1.807779789051295, 1.3264482360674248, 0.8457910455266846, 0.40164181287464107, 2.220446049250313e-16]\n"
          ]
        },
        {
          "output_type": "display_data",
          "data": {
            "text/plain": [
              "<Figure size 432x288 with 1 Axes>"
            ],
            "image/png": "[encoded data removed]"
          },
          "metadata": {
            "needs_background": "light"
          }
        }
      ],
      "source": [
        "# Find optimal cluster size by finding sum-of-squared distances\n",
        "\n",
        "sosd = []\n",
        "#Run clustering for sizes between 1 and 15 and capture inertia \n",
        "K = range(1,15)\n",
        "for k in K:\n",
        "  km = KMeans(n_clusters = k)\n",
        "  km = km.fit(hash_matrix)\n",
        "  sosd.append(km.inertia_)\n",
        "\n",
        "print(\"Sum of squared distances: \", sosd)\n",
        "\n",
        "\n",
        "#Plot sosd against number of clusters\n",
        "import matplotlib.pyplot as plt\n",
        "plt.plot(K, sosd, 'bx-')\n",
        "plt.xlabel('Cluster count')\n",
        "plt.ylabel('Sum_of_squared_distances')\n",
        "plt.title('Elbow Method for Optimal Cluster Size')\n",
        "plt.show()"
      ]
    },
    {
      "cell_type": "code",
      "source": [],
      "metadata": {
        "id": "RunBZhqhj6m2"
      },
      "execution_count": null,
      "outputs": []
    }
  ],
  "metadata": {
    "kernelspec": {
      "display_name": "Python 3",
      "language": "python",
      "name": "python3"
    },
    "language_info": {
      "codemirror_mode": {
        "name": "ipython",
        "version": 3
      },
      "file_extension": ".py",
      "mimetype": "text/x-python",
      "name": "python",
      "nbconvert_exporter": "python",
      "pygments_lexer": "ipython3",
      "version": "3.7.3"
    },
    "colab": {
      "name": "Text Clustering",
      "provenance": []
    }
  },
  "nbformat": 4,
  "nbformat_minor": 0
}